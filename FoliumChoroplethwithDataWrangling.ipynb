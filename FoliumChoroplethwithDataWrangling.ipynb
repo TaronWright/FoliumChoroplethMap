{
 "cells": [
  {
   "cell_type": "code",
   "execution_count": 1,
   "id": "a264c2d0",
   "metadata": {},
   "outputs": [],
   "source": [
    "import folium\n",
    "import geopandas\n",
    "import pandas as pd\n",
    "import geopandas as gpd\n",
    "import requests\n",
    "import fsspec"
   ]
  },
  {
   "cell_type": "code",
   "execution_count": 2,
   "id": "e282a2b3",
   "metadata": {},
   "outputs": [],
   "source": [
    "path = (\"https://data-osi.opendata.arcgis.com/datasets/cac5ddcbbe934edc881d1611c6b910c7_0.geojson?outSR=%7B%22latestWkid%22%3A2157%2C%22wkid%22%3A2157%7D\")"
   ]
  },
  {
   "cell_type": "code",
   "execution_count": 3,
   "id": "db7a6cc7",
   "metadata": {},
   "outputs": [],
   "source": [
    "with fsspec.open(path) as file:\n",
    "    df_geo = gpd.read_file(path)"
   ]
  },
  {
   "cell_type": "code",
   "execution_count": 4,
   "id": "53ade4f9",
   "metadata": {},
   "outputs": [
    {
     "data": {
      "text/html": [
       "<div>\n",
       "<style scoped>\n",
       "    .dataframe tbody tr th:only-of-type {\n",
       "        vertical-align: middle;\n",
       "    }\n",
       "\n",
       "    .dataframe tbody tr th {\n",
       "        vertical-align: top;\n",
       "    }\n",
       "\n",
       "    .dataframe thead th {\n",
       "        text-align: right;\n",
       "    }\n",
       "</style>\n",
       "<table border=\"1\" class=\"dataframe\">\n",
       "  <thead>\n",
       "    <tr style=\"text-align: right;\">\n",
       "      <th></th>\n",
       "      <th>ENGLISH</th>\n",
       "      <th>geometry</th>\n",
       "    </tr>\n",
       "  </thead>\n",
       "  <tbody>\n",
       "    <tr>\n",
       "      <th>0</th>\n",
       "      <td>BALLYBAY-CLONES LEA-5</td>\n",
       "      <td>MULTIPOLYGON (((-6.99040 54.20563, -6.99044 54...</td>\n",
       "    </tr>\n",
       "    <tr>\n",
       "      <th>1</th>\n",
       "      <td>CLANE LEA-5</td>\n",
       "      <td>MULTIPOLYGON (((-6.77096 53.35917, -6.77092 53...</td>\n",
       "    </tr>\n",
       "    <tr>\n",
       "      <th>2</th>\n",
       "      <td>CAVAN - BELTURBET LEA-6</td>\n",
       "      <td>MULTIPOLYGON (((-7.62547 54.15443, -7.62535 54...</td>\n",
       "    </tr>\n",
       "    <tr>\n",
       "      <th>3</th>\n",
       "      <td>TALLAGHT CENTRAL LEA-6</td>\n",
       "      <td>MULTIPOLYGON (((-6.37897 53.27722, -6.37914 53...</td>\n",
       "    </tr>\n",
       "    <tr>\n",
       "      <th>4</th>\n",
       "      <td>MOATE LEA-4</td>\n",
       "      <td>MULTIPOLYGON (((-7.79247 53.49837, -7.79261 53...</td>\n",
       "    </tr>\n",
       "    <tr>\n",
       "      <th>...</th>\n",
       "      <td>...</td>\n",
       "      <td>...</td>\n",
       "    </tr>\n",
       "    <tr>\n",
       "      <th>161</th>\n",
       "      <td>CLONMEL LEA-6</td>\n",
       "      <td>MULTIPOLYGON (((-7.74237 52.34274, -7.74247 52...</td>\n",
       "    </tr>\n",
       "    <tr>\n",
       "      <th>162</th>\n",
       "      <td>BAILIEBOROUGH - COOTEHILL LEA-6</td>\n",
       "      <td>MULTIPOLYGON (((-7.17414 54.08845, -7.17390 54...</td>\n",
       "    </tr>\n",
       "    <tr>\n",
       "      <th>163</th>\n",
       "      <td>CASTLEKNOCK LEA-6</td>\n",
       "      <td>MULTIPOLYGON (((-6.41446 53.36818, -6.41474 53...</td>\n",
       "    </tr>\n",
       "    <tr>\n",
       "      <th>164</th>\n",
       "      <td>ADARE-RATHKEALE LEA-6</td>\n",
       "      <td>MULTIPOLYGON (((-8.93919 52.46793, -8.93978 52...</td>\n",
       "    </tr>\n",
       "    <tr>\n",
       "      <th>165</th>\n",
       "      <td>ROSSLARE LEA-5</td>\n",
       "      <td>MULTIPOLYGON (((-6.80607 52.28935, -6.80602 52...</td>\n",
       "    </tr>\n",
       "  </tbody>\n",
       "</table>\n",
       "<p>166 rows × 2 columns</p>\n",
       "</div>"
      ],
      "text/plain": [
       "                             ENGLISH  \\\n",
       "0              BALLYBAY-CLONES LEA-5   \n",
       "1                        CLANE LEA-5   \n",
       "2            CAVAN - BELTURBET LEA-6   \n",
       "3             TALLAGHT CENTRAL LEA-6   \n",
       "4                        MOATE LEA-4   \n",
       "..                               ...   \n",
       "161                    CLONMEL LEA-6   \n",
       "162  BAILIEBOROUGH - COOTEHILL LEA-6   \n",
       "163                CASTLEKNOCK LEA-6   \n",
       "164            ADARE-RATHKEALE LEA-6   \n",
       "165                   ROSSLARE LEA-5   \n",
       "\n",
       "                                              geometry  \n",
       "0    MULTIPOLYGON (((-6.99040 54.20563, -6.99044 54...  \n",
       "1    MULTIPOLYGON (((-6.77096 53.35917, -6.77092 53...  \n",
       "2    MULTIPOLYGON (((-7.62547 54.15443, -7.62535 54...  \n",
       "3    MULTIPOLYGON (((-6.37897 53.27722, -6.37914 53...  \n",
       "4    MULTIPOLYGON (((-7.79247 53.49837, -7.79261 53...  \n",
       "..                                                 ...  \n",
       "161  MULTIPOLYGON (((-7.74237 52.34274, -7.74247 52...  \n",
       "162  MULTIPOLYGON (((-7.17414 54.08845, -7.17390 54...  \n",
       "163  MULTIPOLYGON (((-6.41446 53.36818, -6.41474 53...  \n",
       "164  MULTIPOLYGON (((-8.93919 52.46793, -8.93978 52...  \n",
       "165  MULTIPOLYGON (((-6.80607 52.28935, -6.80602 52...  \n",
       "\n",
       "[166 rows x 2 columns]"
      ]
     },
     "execution_count": 4,
     "metadata": {},
     "output_type": "execute_result"
    }
   ],
   "source": [
    "df_geo = df_geo[['ENGLISH','geometry']]\n",
    "df_geo"
   ]
  },
  {
   "cell_type": "code",
   "execution_count": 5,
   "id": "4841a15f",
   "metadata": {},
   "outputs": [
    {
     "name": "stderr",
     "output_type": "stream",
     "text": [
      "C:\\Users\\35387\\Miniconda3\\envs\\folium_venv\\lib\\site-packages\\ipykernel_launcher.py:1: UserWarning: Geometry is in a geographic CRS. Results from 'centroid' are likely incorrect. Use 'GeoSeries.to_crs()' to re-project geometries to a projected CRS before this operation.\n",
      "\n",
      "  \"\"\"Entry point for launching an IPython kernel.\n",
      "C:\\Users\\35387\\Miniconda3\\envs\\folium_venv\\lib\\site-packages\\ipykernel_launcher.py:2: UserWarning: Geometry is in a geographic CRS. Results from 'centroid' are likely incorrect. Use 'GeoSeries.to_crs()' to re-project geometries to a projected CRS before this operation.\n",
      "\n",
      "  \n"
     ]
    }
   ],
   "source": [
    "x_map=df_geo.centroid.x.mean()\n",
    "y_map=df_geo.centroid.y.mean()"
   ]
  },
  {
   "cell_type": "code",
   "execution_count": 6,
   "id": "3c5561ca",
   "metadata": {},
   "outputs": [],
   "source": [
    "m = folium.Map(location=[y_map, x_map], zoom_start=6,tiles=None)"
   ]
  },
  {
   "cell_type": "code",
   "execution_count": 7,
   "id": "b76b3a90",
   "metadata": {},
   "outputs": [
    {
     "data": {
      "text/plain": [
       "<folium.raster_layers.TileLayer at 0x19c725c85f8>"
      ]
     },
     "execution_count": 7,
     "metadata": {},
     "output_type": "execute_result"
    }
   ],
   "source": [
    "folium.TileLayer('CartoDB positron',name=\"Light Map\",control=False).add_to(m)"
   ]
  },
  {
   "cell_type": "code",
   "execution_count": 8,
   "id": "154ceb48",
   "metadata": {},
   "outputs": [],
   "source": [
    "df_geo['ENGLISH'] = df_geo['ENGLISH'].map(lambda x: x[:-6])"
   ]
  },
  {
   "cell_type": "code",
   "execution_count": 9,
   "id": "5a78e3d5",
   "metadata": {
    "scrolled": true
   },
   "outputs": [
    {
     "data": {
      "text/html": [
       "<div>\n",
       "<style scoped>\n",
       "    .dataframe tbody tr th:only-of-type {\n",
       "        vertical-align: middle;\n",
       "    }\n",
       "\n",
       "    .dataframe tbody tr th {\n",
       "        vertical-align: top;\n",
       "    }\n",
       "\n",
       "    .dataframe thead th {\n",
       "        text-align: right;\n",
       "    }\n",
       "</style>\n",
       "<table border=\"1\" class=\"dataframe\">\n",
       "  <thead>\n",
       "    <tr style=\"text-align: right;\">\n",
       "      <th></th>\n",
       "      <th>ENGLISH</th>\n",
       "      <th>geometry</th>\n",
       "    </tr>\n",
       "  </thead>\n",
       "  <tbody>\n",
       "    <tr>\n",
       "      <th>0</th>\n",
       "      <td>BALLYBAY-CLONES</td>\n",
       "      <td>MULTIPOLYGON (((-6.99040 54.20563, -6.99044 54...</td>\n",
       "    </tr>\n",
       "    <tr>\n",
       "      <th>1</th>\n",
       "      <td>CLANE</td>\n",
       "      <td>MULTIPOLYGON (((-6.77096 53.35917, -6.77092 53...</td>\n",
       "    </tr>\n",
       "    <tr>\n",
       "      <th>2</th>\n",
       "      <td>CAVAN - BELTURBET</td>\n",
       "      <td>MULTIPOLYGON (((-7.62547 54.15443, -7.62535 54...</td>\n",
       "    </tr>\n",
       "    <tr>\n",
       "      <th>3</th>\n",
       "      <td>TALLAGHT CENTRAL</td>\n",
       "      <td>MULTIPOLYGON (((-6.37897 53.27722, -6.37914 53...</td>\n",
       "    </tr>\n",
       "    <tr>\n",
       "      <th>4</th>\n",
       "      <td>MOATE</td>\n",
       "      <td>MULTIPOLYGON (((-7.79247 53.49837, -7.79261 53...</td>\n",
       "    </tr>\n",
       "    <tr>\n",
       "      <th>...</th>\n",
       "      <td>...</td>\n",
       "      <td>...</td>\n",
       "    </tr>\n",
       "    <tr>\n",
       "      <th>161</th>\n",
       "      <td>CLONMEL</td>\n",
       "      <td>MULTIPOLYGON (((-7.74237 52.34274, -7.74247 52...</td>\n",
       "    </tr>\n",
       "    <tr>\n",
       "      <th>162</th>\n",
       "      <td>BAILIEBOROUGH - COOTEHILL</td>\n",
       "      <td>MULTIPOLYGON (((-7.17414 54.08845, -7.17390 54...</td>\n",
       "    </tr>\n",
       "    <tr>\n",
       "      <th>163</th>\n",
       "      <td>CASTLEKNOCK</td>\n",
       "      <td>MULTIPOLYGON (((-6.41446 53.36818, -6.41474 53...</td>\n",
       "    </tr>\n",
       "    <tr>\n",
       "      <th>164</th>\n",
       "      <td>ADARE-RATHKEALE</td>\n",
       "      <td>MULTIPOLYGON (((-8.93919 52.46793, -8.93978 52...</td>\n",
       "    </tr>\n",
       "    <tr>\n",
       "      <th>165</th>\n",
       "      <td>ROSSLARE</td>\n",
       "      <td>MULTIPOLYGON (((-6.80607 52.28935, -6.80602 52...</td>\n",
       "    </tr>\n",
       "  </tbody>\n",
       "</table>\n",
       "<p>166 rows × 2 columns</p>\n",
       "</div>"
      ],
      "text/plain": [
       "                       ENGLISH  \\\n",
       "0              BALLYBAY-CLONES   \n",
       "1                        CLANE   \n",
       "2            CAVAN - BELTURBET   \n",
       "3             TALLAGHT CENTRAL   \n",
       "4                        MOATE   \n",
       "..                         ...   \n",
       "161                    CLONMEL   \n",
       "162  BAILIEBOROUGH - COOTEHILL   \n",
       "163                CASTLEKNOCK   \n",
       "164            ADARE-RATHKEALE   \n",
       "165                   ROSSLARE   \n",
       "\n",
       "                                              geometry  \n",
       "0    MULTIPOLYGON (((-6.99040 54.20563, -6.99044 54...  \n",
       "1    MULTIPOLYGON (((-6.77096 53.35917, -6.77092 53...  \n",
       "2    MULTIPOLYGON (((-7.62547 54.15443, -7.62535 54...  \n",
       "3    MULTIPOLYGON (((-6.37897 53.27722, -6.37914 53...  \n",
       "4    MULTIPOLYGON (((-7.79247 53.49837, -7.79261 53...  \n",
       "..                                                 ...  \n",
       "161  MULTIPOLYGON (((-7.74237 52.34274, -7.74247 52...  \n",
       "162  MULTIPOLYGON (((-7.17414 54.08845, -7.17390 54...  \n",
       "163  MULTIPOLYGON (((-6.41446 53.36818, -6.41474 53...  \n",
       "164  MULTIPOLYGON (((-8.93919 52.46793, -8.93978 52...  \n",
       "165  MULTIPOLYGON (((-6.80607 52.28935, -6.80602 52...  \n",
       "\n",
       "[166 rows x 2 columns]"
      ]
     },
     "execution_count": 9,
     "metadata": {},
     "output_type": "execute_result"
    }
   ],
   "source": [
    "df_geo"
   ]
  },
  {
   "cell_type": "code",
   "execution_count": 10,
   "id": "71ac08d2",
   "metadata": {},
   "outputs": [],
   "source": [
    "df_geo.rename(columns={'ENGLISH': 'Local Electoral Area 2019'}, inplace=True)"
   ]
  },
  {
   "cell_type": "code",
   "execution_count": 11,
   "id": "ac1fd7fe",
   "metadata": {},
   "outputs": [
    {
     "name": "stdout",
     "output_type": "stream",
     "text": [
      "Files in 'C:\\\\Users\\\\35387': ['.conda', '.ipynb_checkpoints', '.ipython', '.jupyter', 'AppData', 'Application Data', 'ArcGis Api Python.ipynb', 'arcgis_samples', 'Contacts', 'Cookies', 'data', 'Desktop', 'Documents', 'Downloads', 'Favorites', 'Folium Choropleth with Data Wrangling.ipynb', 'Folium.ipynb', 'IntelGraphicsProfiles', 'Jsont-stat Arcgis.ipynb', 'Links', 'Local Settings', 'Miniconda3', 'Music', 'My Documents', 'my_map.html', 'NetHood', 'NTUSER.DAT', 'ntuser.dat.LOG1', 'ntuser.dat.LOG2', 'NTUSER.DAT{84b9eba7-704a-11ed-9352-c1b58a4a1e06}.TM.blf', 'NTUSER.DAT{84b9eba7-704a-11ed-9352-c1b58a4a1e06}.TMContainer00000000000000000001.regtrans-ms', 'NTUSER.DAT{84b9eba7-704a-11ed-9352-c1b58a4a1e06}.TMContainer00000000000000000002.regtrans-ms', 'ntuser.ini', 'OneDrive', 'Pictures', 'Practicing python.ipynb', 'PrintHood', 'Recent', 'Saved Games', 'Searches', 'SendTo', 'Start Menu', 'Templates', 'ukraine_refugee_map.html', 'Videos']\n"
     ]
    },
    {
     "data": {
      "text/plain": [
       "'C:/Users/35387/Downloads/UA05.20230114T230121.csv'"
      ]
     },
     "execution_count": 11,
     "metadata": {},
     "output_type": "execute_result"
    }
   ],
   "source": [
    "import os\n",
    "\n",
    "cwd = os.getcwd()  # Get the current working directory (cwd)\n",
    "files = os.listdir(cwd)  # Get all the files in that directory\n",
    "print(\"Files in %r: %s\" % (cwd, files))\n",
    "\n",
    "file = \"UA05.20230114T230121.csv\"\n",
    "\n",
    "# File location \n",
    "location = \"C:/Users/35387/Downloads/\"\n",
    "      \n",
    "# Path \n",
    "path = os.path.join(location, file) \n",
    "path"
   ]
  },
  {
   "cell_type": "code",
   "execution_count": 12,
   "id": "61b6349b",
   "metadata": {
    "scrolled": false
   },
   "outputs": [],
   "source": [
    "df_value = pd.read_csv(path)\n",
    "df_value = df_value.iloc[1:]\n",
    "df_value['Local Electoral Area 2019'] = df_value['Local Electoral Area 2019'].map(lambda x: x.split(',',1)[0].upper())\n",
    "df_value = df_value[[\"Local Electoral Area 2019\", \"VALUE\"]]\n",
    "df_value = df_value.reset_index(drop = True)"
   ]
  },
  {
   "cell_type": "code",
   "execution_count": 13,
   "id": "e1d749a1",
   "metadata": {
    "scrolled": true
   },
   "outputs": [
    {
     "data": {
      "text/html": [
       "<div>\n",
       "<style scoped>\n",
       "    .dataframe tbody tr th:only-of-type {\n",
       "        vertical-align: middle;\n",
       "    }\n",
       "\n",
       "    .dataframe tbody tr th {\n",
       "        vertical-align: top;\n",
       "    }\n",
       "\n",
       "    .dataframe thead th {\n",
       "        text-align: right;\n",
       "    }\n",
       "</style>\n",
       "<table border=\"1\" class=\"dataframe\">\n",
       "  <thead>\n",
       "    <tr style=\"text-align: right;\">\n",
       "      <th></th>\n",
       "      <th>Local Electoral Area 2019</th>\n",
       "      <th>VALUE</th>\n",
       "    </tr>\n",
       "  </thead>\n",
       "  <tbody>\n",
       "    <tr>\n",
       "      <th>0</th>\n",
       "      <td>BORRIS-IN-OSSORY-MOUNTMELLICK</td>\n",
       "      <td>168</td>\n",
       "    </tr>\n",
       "    <tr>\n",
       "      <th>1</th>\n",
       "      <td>PORTLAOISE</td>\n",
       "      <td>323</td>\n",
       "    </tr>\n",
       "    <tr>\n",
       "      <th>2</th>\n",
       "      <td>GRAIGUECULLEN -PORTARLINGTON</td>\n",
       "      <td>298</td>\n",
       "    </tr>\n",
       "    <tr>\n",
       "      <th>3</th>\n",
       "      <td>CARLOW</td>\n",
       "      <td>708</td>\n",
       "    </tr>\n",
       "    <tr>\n",
       "      <th>4</th>\n",
       "      <td>TULLOW</td>\n",
       "      <td>115</td>\n",
       "    </tr>\n",
       "    <tr>\n",
       "      <th>...</th>\n",
       "      <td>...</td>\n",
       "      <td>...</td>\n",
       "    </tr>\n",
       "    <tr>\n",
       "      <th>161</th>\n",
       "      <td>NEWBRIDGE</td>\n",
       "      <td>162</td>\n",
       "    </tr>\n",
       "    <tr>\n",
       "      <th>162</th>\n",
       "      <td>CASTLECOMER</td>\n",
       "      <td>163</td>\n",
       "    </tr>\n",
       "    <tr>\n",
       "      <th>163</th>\n",
       "      <td>KILKENNY</td>\n",
       "      <td>902</td>\n",
       "    </tr>\n",
       "    <tr>\n",
       "      <th>164</th>\n",
       "      <td>PILTOWN</td>\n",
       "      <td>50</td>\n",
       "    </tr>\n",
       "    <tr>\n",
       "      <th>165</th>\n",
       "      <td>CALLAN-THOMASTOWN</td>\n",
       "      <td>140</td>\n",
       "    </tr>\n",
       "  </tbody>\n",
       "</table>\n",
       "<p>166 rows × 2 columns</p>\n",
       "</div>"
      ],
      "text/plain": [
       "         Local Electoral Area 2019  VALUE\n",
       "0    BORRIS-IN-OSSORY-MOUNTMELLICK    168\n",
       "1                       PORTLAOISE    323\n",
       "2     GRAIGUECULLEN -PORTARLINGTON    298\n",
       "3                           CARLOW    708\n",
       "4                           TULLOW    115\n",
       "..                             ...    ...\n",
       "161                      NEWBRIDGE    162\n",
       "162                    CASTLECOMER    163\n",
       "163                       KILKENNY    902\n",
       "164                        PILTOWN     50\n",
       "165              CALLAN-THOMASTOWN    140\n",
       "\n",
       "[166 rows x 2 columns]"
      ]
     },
     "execution_count": 13,
     "metadata": {},
     "output_type": "execute_result"
    }
   ],
   "source": [
    "df_value"
   ]
  },
  {
   "cell_type": "code",
   "execution_count": 14,
   "id": "66db8825",
   "metadata": {},
   "outputs": [],
   "source": [
    "#The geometry column must be on the left of whatever columns has\n",
    "#the values or the merge won't be read correcly by folium map\n",
    "df_merge =df_geo.merge(df_value,on=\"Local Electoral Area 2019\")"
   ]
  },
  {
   "cell_type": "code",
   "execution_count": 15,
   "id": "4bdf412f",
   "metadata": {
    "scrolled": true
   },
   "outputs": [
    {
     "data": {
      "text/html": [
       "<div>\n",
       "<style scoped>\n",
       "    .dataframe tbody tr th:only-of-type {\n",
       "        vertical-align: middle;\n",
       "    }\n",
       "\n",
       "    .dataframe tbody tr th {\n",
       "        vertical-align: top;\n",
       "    }\n",
       "\n",
       "    .dataframe thead th {\n",
       "        text-align: right;\n",
       "    }\n",
       "</style>\n",
       "<table border=\"1\" class=\"dataframe\">\n",
       "  <thead>\n",
       "    <tr style=\"text-align: right;\">\n",
       "      <th></th>\n",
       "      <th>Local Electoral Area 2019</th>\n",
       "      <th>geometry</th>\n",
       "      <th>VALUE</th>\n",
       "    </tr>\n",
       "  </thead>\n",
       "  <tbody>\n",
       "    <tr>\n",
       "      <th>0</th>\n",
       "      <td>BALLYBAY-CLONES</td>\n",
       "      <td>MULTIPOLYGON (((-6.99040 54.20563, -6.99044 54...</td>\n",
       "      <td>158</td>\n",
       "    </tr>\n",
       "    <tr>\n",
       "      <th>1</th>\n",
       "      <td>CLANE</td>\n",
       "      <td>MULTIPOLYGON (((-6.77096 53.35917, -6.77092 53...</td>\n",
       "      <td>102</td>\n",
       "    </tr>\n",
       "    <tr>\n",
       "      <th>2</th>\n",
       "      <td>TALLAGHT CENTRAL</td>\n",
       "      <td>MULTIPOLYGON (((-6.37897 53.27722, -6.37914 53...</td>\n",
       "      <td>759</td>\n",
       "    </tr>\n",
       "    <tr>\n",
       "      <th>3</th>\n",
       "      <td>MOATE</td>\n",
       "      <td>MULTIPOLYGON (((-7.79247 53.49837, -7.79261 53...</td>\n",
       "      <td>65</td>\n",
       "    </tr>\n",
       "    <tr>\n",
       "      <th>4</th>\n",
       "      <td>NENAGH</td>\n",
       "      <td>MULTIPOLYGON (((-8.27294 52.88048, -8.27296 52...</td>\n",
       "      <td>188</td>\n",
       "    </tr>\n",
       "    <tr>\n",
       "      <th>...</th>\n",
       "      <td>...</td>\n",
       "      <td>...</td>\n",
       "      <td>...</td>\n",
       "    </tr>\n",
       "    <tr>\n",
       "      <th>157</th>\n",
       "      <td>CONAMARA NORTH</td>\n",
       "      <td>MULTIPOLYGON (((-9.26630 53.46899, -9.26552 53...</td>\n",
       "      <td>714</td>\n",
       "    </tr>\n",
       "    <tr>\n",
       "      <th>158</th>\n",
       "      <td>CLONMEL</td>\n",
       "      <td>MULTIPOLYGON (((-7.74237 52.34274, -7.74247 52...</td>\n",
       "      <td>193</td>\n",
       "    </tr>\n",
       "    <tr>\n",
       "      <th>159</th>\n",
       "      <td>CASTLEKNOCK</td>\n",
       "      <td>MULTIPOLYGON (((-6.41446 53.36818, -6.41474 53...</td>\n",
       "      <td>408</td>\n",
       "    </tr>\n",
       "    <tr>\n",
       "      <th>160</th>\n",
       "      <td>ADARE-RATHKEALE</td>\n",
       "      <td>MULTIPOLYGON (((-8.93919 52.46793, -8.93978 52...</td>\n",
       "      <td>170</td>\n",
       "    </tr>\n",
       "    <tr>\n",
       "      <th>161</th>\n",
       "      <td>ROSSLARE</td>\n",
       "      <td>MULTIPOLYGON (((-6.80607 52.28935, -6.80602 52...</td>\n",
       "      <td>557</td>\n",
       "    </tr>\n",
       "  </tbody>\n",
       "</table>\n",
       "<p>162 rows × 3 columns</p>\n",
       "</div>"
      ],
      "text/plain": [
       "    Local Electoral Area 2019  \\\n",
       "0             BALLYBAY-CLONES   \n",
       "1                       CLANE   \n",
       "2            TALLAGHT CENTRAL   \n",
       "3                       MOATE   \n",
       "4                      NENAGH   \n",
       "..                        ...   \n",
       "157            CONAMARA NORTH   \n",
       "158                   CLONMEL   \n",
       "159               CASTLEKNOCK   \n",
       "160           ADARE-RATHKEALE   \n",
       "161                  ROSSLARE   \n",
       "\n",
       "                                              geometry  VALUE  \n",
       "0    MULTIPOLYGON (((-6.99040 54.20563, -6.99044 54...    158  \n",
       "1    MULTIPOLYGON (((-6.77096 53.35917, -6.77092 53...    102  \n",
       "2    MULTIPOLYGON (((-6.37897 53.27722, -6.37914 53...    759  \n",
       "3    MULTIPOLYGON (((-7.79247 53.49837, -7.79261 53...     65  \n",
       "4    MULTIPOLYGON (((-8.27294 52.88048, -8.27296 52...    188  \n",
       "..                                                 ...    ...  \n",
       "157  MULTIPOLYGON (((-9.26630 53.46899, -9.26552 53...    714  \n",
       "158  MULTIPOLYGON (((-7.74237 52.34274, -7.74247 52...    193  \n",
       "159  MULTIPOLYGON (((-6.41446 53.36818, -6.41474 53...    408  \n",
       "160  MULTIPOLYGON (((-8.93919 52.46793, -8.93978 52...    170  \n",
       "161  MULTIPOLYGON (((-6.80607 52.28935, -6.80602 52...    557  \n",
       "\n",
       "[162 rows x 3 columns]"
      ]
     },
     "execution_count": 15,
     "metadata": {},
     "output_type": "execute_result"
    }
   ],
   "source": [
    "df_merge "
   ]
  },
  {
   "cell_type": "code",
   "execution_count": null,
   "id": "5773987e",
   "metadata": {},
   "outputs": [],
   "source": [
    "folium.Choropleth(\n",
    "    geo_data=df_merge,\n",
    "    data=df_merge,\n",
    "    columns=[\"Local Electoral Area 2019\", \"VALUE\"],\n",
    "    key_on=\"feature.properties.Local Electoral Area 2019\",\n",
    "    fill_color=\"YlGn\",\n",
    "    fill_opacity=0.7,\n",
    "    line_opacity=0.2,\n",
    ").add_to(m)"
   ]
  },
  {
   "cell_type": "code",
   "execution_count": null,
   "id": "2f711b10",
   "metadata": {},
   "outputs": [],
   "source": [
    "style_function = lambda x: {'fillColor': '#ffffff', \n",
    "                            'color':'#000000', \n",
    "                            'fillOpacity': 0.1, \n",
    "                            'weight': 0.1}\n",
    "highlight_function = lambda x: {'fillColor': '#000000', \n",
    "                                'color':'#000000', \n",
    "                                'fillOpacity': 0.50, \n",
    "                                'weight': 0.1}\n",
    "NIL = folium.features.GeoJson(\n",
    "    df_merge,\n",
    "    style_function=style_function, \n",
    "    control=False,\n",
    "    highlight_function=highlight_function, \n",
    "    tooltip=folium.features.GeoJsonTooltip(\n",
    "        fields=[\"Local Electoral Area 2019\", \"VALUE\"],\n",
    "        aliases=['County: ','Number of Ukranian refugees: '],\n",
    "        style=(\"background-color: white; color: #333333; font-family: arial; font-size: 12px; padding: 10px;\") \n",
    "    )\n",
    ")\n",
    "m.add_child(NIL)\n",
    "m.keep_in_front(NIL)\n",
    "folium.LayerControl().add_to(m)"
   ]
  },
  {
   "cell_type": "code",
   "execution_count": null,
   "id": "2d6722ae",
   "metadata": {},
   "outputs": [],
   "source": [
    "m"
   ]
  },
  {
   "cell_type": "code",
   "execution_count": null,
   "id": "369bc550",
   "metadata": {},
   "outputs": [],
   "source": [
    "m.save(\"ukraine_refugee_map.html\")"
   ]
  }
 ],
 "metadata": {
  "kernelspec": {
   "display_name": "Python 3",
   "language": "python",
   "name": "python3"
  },
  "language_info": {
   "codemirror_mode": {
    "name": "ipython",
    "version": 3
   },
   "file_extension": ".py",
   "mimetype": "text/x-python",
   "name": "python",
   "nbconvert_exporter": "python",
   "pygments_lexer": "ipython3",
   "version": "3.6.15"
  }
 },
 "nbformat": 4,
 "nbformat_minor": 5
}
